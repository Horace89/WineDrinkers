{
 "cells": [
  {
   "cell_type": "markdown",
   "metadata": {},
   "source": [
    "## Wine drinkers\n",
    "\n",
    "### Part 2- Building wine recommenders\n",
    "In Part 1 I segmented customers based on the wines they bought. Here I'll use the wine sales data to build wine recommenders."
   ]
  },
  {
   "cell_type": "code",
   "execution_count": 43,
   "metadata": {
    "collapsed": true
   },
   "outputs": [],
   "source": [
    "from collections import defaultdict\n",
    "import math\n",
    "import numpy as np\n",
    "from numpy import zeros, array, sqrt, log\n",
    "import matplotlib.pyplot as plt\n",
    "import scipy.sparse as sparse\n",
    "from scipy.sparse.linalg import svds\n",
    "import time\n",
    "from scipy.sparse import coo_matrix, csr_matrix, eye, diags, csc_matrix\n",
    "from scipy.sparse.linalg import spsolve\n",
    "import pandas as pd\n",
    "import json\n",
    "import operator"
   ]
  },
  {
   "cell_type": "markdown",
   "metadata": {},
   "source": [
    "Functions for calculating similarity: set or cosine based methods"
   ]
  },
  {
   "cell_type": "code",
   "execution_count": 44,
   "metadata": {
    "collapsed": true
   },
   "outputs": [],
   "source": [
    "def overlap(a,b):\n",
    "    \"\"\"\n",
    "    Simple set based method to calculate similarity between two items.\n",
    "    Looks at the number of users that the two items have in common.\n",
    "    \"\"\"\n",
    "    return len(a.intersection(b))\n",
    "\n",
    "def get_overlaps(item_sets, item_of_interest):\n",
    "    \"\"\"Get overlaps of multiple items with any item of interest\"\"\"\n",
    "    for item in item_sets:\n",
    "        print(item,':', overlap(item_sets[item_of_interest], item_sets[item]))\n",
    "\n",
    "def norm2(v):\n",
    "    \"\"\"L2 norm\"\"\"\n",
    "    return sqrt((v.data ** 2).sum())\n",
    "\n",
    "def cosine(a, b):\n",
    "    \"\"\"Calculate the cosine of the angle between two vectors a and b\"\"\"\n",
    "    return csr_matrix.dot(a, b.T)[0, 0] / (norm2(a) * norm2(b))\n",
    "\n",
    "def get_sim_with_cos(items, item_of_interest):\n",
    "    \"\"\"Get overlaps of multiple items with any item of interest\"\"\"\n",
    "    for item in items:\n",
    "        print(item,':', cosine(items[item_of_interest], items[item]))"
   ]
  },
  {
   "cell_type": "markdown",
   "metadata": {},
   "source": [
    "Functions for matrix factorization"
   ]
  },
  {
   "cell_type": "code",
   "execution_count": 45,
   "metadata": {
    "collapsed": false
   },
   "outputs": [],
   "source": [
    "def alternating_least_squares(Cui, factors, regularization=0.01,\n",
    "                              iterations=15, use_native=True, num_threads=0,\n",
    "                              dtype=np.float64):\n",
    "    \"\"\"\n",
    "    Factorizes the matrix Cui using an implicit alternating least squares algorithm\n",
    "    Args:\n",
    "        Cui (csr_matrix): Confidence Matrix\n",
    "        factors (int): Number of factors to extract\n",
    "        regularization (double): Regularization parameter to use\n",
    "        iterations (int): Number of alternating least squares iterations to\n",
    "        run\n",
    "        num_threads (int): Number of threads to run least squares iterations.\n",
    "        0 means to use all CPU cores.\n",
    "    Returns:\n",
    "        tuple: A tuple of (row, col) factors\n",
    "    \"\"\"\n",
    "    #_check_open_blas()\n",
    " \n",
    "    users, items = Cui.shape\n",
    " \n",
    "    X = np.random.rand(users, factors).astype(dtype) * 0.01\n",
    "    Y = np.random.rand(items, factors).astype(dtype) * 0.01\n",
    " \n",
    "    Cui, Ciu = Cui.tocsr(), Cui.T.tocsr()\n",
    " \n",
    "    solver = least_squares\n",
    " \n",
    "    for iteration in range(iterations):\n",
    "        s = time.time()\n",
    "        solver(Cui, X, Y, regularization, num_threads)\n",
    "        solver(Ciu, Y, X, regularization, num_threads)\n",
    "        print(\"finished iteration %i in %s\" % (iteration, time.time() - s))\n",
    " \n",
    "    return X, Y\n",
    " \n",
    "def least_squares(Cui, X, Y, regularization, num_threads):\n",
    "    \"\"\" \n",
    "    For each user in Cui, calculate factors Xu for them using least squares on Y.\n",
    "    \"\"\"\n",
    "    users, factors = X.shape\n",
    "    YtY = Y.T.dot(Y)\n",
    " \n",
    "    for u in range(users):\n",
    "        # accumulate YtCuY + regularization*I in A\n",
    "        A = YtY + regularization * np.eye(factors)\n",
    " \n",
    "        # accumulate YtCuPu in b\n",
    "        b = np.zeros(factors)\n",
    " \n",
    "        for i, confidence in nonzeros(Cui, u):\n",
    "            factor = Y[i]\n",
    "            A += (confidence - 1) * np.outer(factor, factor)\n",
    "            b += confidence * factor\n",
    " \n",
    "        # Xu = (YtCuY + regularization * I)^-1 (YtCuPu)\n",
    "        X[u] = np.linalg.solve(A, b)\n",
    "\n",
    "def bm25_weight(data, K1=100, B=0.8):\n",
    "    \"\"\" \n",
    "    Weighs each row of the matrix data by BM25 weighting\n",
    "    \"\"\"\n",
    "    # calculate idf per term (user)\n",
    "    N = float(data.shape[0])\n",
    "    idf = np.log(N / (1 + np.bincount(data.col)))\n",
    "\n",
    "    # calculate length_norm per document\n",
    "    row_sums = np.squeeze(np.asarray(data.sum(1)))\n",
    "    average_length = row_sums.sum() / N\n",
    "    length_norm = (1.0 - B) + B * row_sums / average_length\n",
    "\n",
    "    # weight matrix rows by bm25\n",
    "    ret = coo_matrix(data)\n",
    "    ret.data = ret.data * (K1 + 1.0) / (K1 * length_norm[ret.row] + ret.data) * idf[ret.col]\n",
    "    return ret\n",
    "\n",
    "def nonzeros(m, row):\n",
    "    \"\"\" \n",
    "    Returns the non zeroes of a row in csr_matrix\n",
    "    \"\"\"\n",
    "    for index in range(m.indptr[row], m.indptr[row+1]):\n",
    "        yield m.indices[index], m.data[index]"
   ]
  },
  {
   "cell_type": "code",
   "execution_count": 46,
   "metadata": {
    "collapsed": false
   },
   "outputs": [],
   "source": [
    "class ImplicitMF():\n",
    "    '''\n",
    "    Numerical value of implicit feedback indicates confidence that a user prefers an item. \n",
    "    No negative feedback- entries must be positive.\n",
    "    '''\n",
    "    def __init__(self, counts, num_factors=40, num_iterations=30,\n",
    "                 reg_param=0.8):\n",
    "        self.counts = counts\n",
    "        self.num_users = counts.shape[0]\n",
    "        self.num_items = counts.shape[1]\n",
    "        self.num_factors = num_factors\n",
    "        self.num_iterations = num_iterations\n",
    "        self.reg_param = reg_param\n",
    " \n",
    "    def train_model(self):\n",
    "        self.user_vectors = np.random.normal(size=(self.num_users,\n",
    "                                                   self.num_factors))\n",
    "        self.item_vectors = np.random.normal(size=(self.num_items,\n",
    "                                                   self.num_factors))\n",
    " \n",
    "        for i in range(self.num_iterations):\n",
    "            t0 = time.time()\n",
    "            print('Solving for user vectors...')\n",
    "            self.user_vectors = self.iteration(True, csr_matrix(self.item_vectors))\n",
    "            print('Solving for item vectors...')\n",
    "            self.item_vectors = self.iteration(False, csr_matrix(self.user_vectors))\n",
    "            t1 = time.time()\n",
    "            print('iteration %i finished in %f seconds' % (i + 1, t1 - t0))\n",
    " \n",
    "    def iteration(self, user, fixed_vecs):\n",
    "        num_solve = self.num_users if user else self.num_items\n",
    "        num_fixed = fixed_vecs.shape[0]\n",
    "        YTY = fixed_vecs.T.dot(fixed_vecs)\n",
    "        eye1 = eye(num_fixed)\n",
    "        lambda_eye = self.reg_param * eye(self.num_factors)\n",
    "        solve_vecs = np.zeros((num_solve, self.num_factors))\n",
    " \n",
    "        t = time.time()\n",
    "        for i in range(num_solve):\n",
    "            if user:\n",
    "                counts_i = self.counts[i].toarray()\n",
    "            else:\n",
    "                counts_i = self.counts[:, i].T.toarray()\n",
    "            CuI = diags(counts_i, [0])\n",
    "            pu = counts_i.copy()\n",
    "            pu[np.where(pu != 0)] = 1.0\n",
    "            YTCuIY = fixed_vecs.T.dot(CuI).dot(fixed_vecs)\n",
    "            YTCupu = fixed_vecs.T.dot(CuI + eye1).dot(csr_matrix(pu).T)\n",
    "            xu = spsolve(YTY + YTCuIY + lambda_eye, YTCupu)\n",
    "            solve_vecs[i] = xu\n",
    "            if i % 1000 == 0:\n",
    "                print('Solved %i vecs in %d seconds' % (i, time.time() - t))\n",
    "                t = time.time()\n",
    " \n",
    "        return solve_vecs"
   ]
  },
  {
   "cell_type": "markdown",
   "metadata": {},
   "source": [
    "Functions for getting recommendations"
   ]
  },
  {
   "cell_type": "code",
   "execution_count": 47,
   "metadata": {
    "collapsed": false
   },
   "outputs": [],
   "source": [
    "class TopRelated_useruser(object):\n",
    "    def __init__(self, user_factors):\n",
    "        # fully normalize user_factors, so can compare with only the dot product\n",
    "        norms = np.linalg.norm(user_factors, axis=-1)\n",
    "        self.factors = user_factors / norms[:, np.newaxis]\n",
    "\n",
    "    def get_related(self, movieid, N=10):\n",
    "        scores = self.factors.dot(self.factors[movieid]) # taking dot product\n",
    "        best = np.argpartition(scores, -N)[-N:]\n",
    "        return sorted(zip(best, scores[best]), key=lambda x: -x[1])\n",
    "\n",
    "class TopRelated_itemitem(object):\n",
    "    def __init__(self, movie_factors):\n",
    "        # fully normalize movie_factors, so can compare with only the dot product\n",
    "        norms = np.linalg.norm(movie_factors, axis=-1)\n",
    "        self.factors = movie_factors / norms[:, np.newaxis]\n",
    "\n",
    "    def get_related(self, movieid, N=10):\n",
    "        scores = self.factors.T.dot(self.factors.T[movieid])\n",
    "        best = np.argpartition(scores, -N)[-N:]\n",
    "        return sorted(zip(best, scores[best]), key=lambda x: -x[1])\n",
    "    \n",
    "def print_top_items(itemname2itemid, recs):\n",
    "    \"\"\"Print recommendations and scores\"\"\"\n",
    "    inv_dict = {v: k for k, v in itemname2itemid.items()}\n",
    "    for item_code, score in recs:\n",
    "        print(inv_dict[item_code], \":\", score)"
   ]
  },
  {
   "cell_type": "markdown",
   "metadata": {},
   "source": [
    "### The data"
   ]
  },
  {
   "cell_type": "code",
   "execution_count": 48,
   "metadata": {
    "collapsed": false
   },
   "outputs": [
    {
     "data": {
      "text/html": [
       "<div>\n",
       "<table border=\"1\" class=\"dataframe\">\n",
       "  <thead>\n",
       "    <tr style=\"text-align: right;\">\n",
       "      <th></th>\n",
       "      <th>user</th>\n",
       "      <th>Item</th>\n",
       "      <th>bought</th>\n",
       "    </tr>\n",
       "  </thead>\n",
       "  <tbody>\n",
       "    <tr>\n",
       "      <th>0</th>\n",
       "      <td>0</td>\n",
       "      <td>Cabernet Sauvignon</td>\n",
       "      <td>2</td>\n",
       "    </tr>\n",
       "    <tr>\n",
       "      <th>1</th>\n",
       "      <td>0</td>\n",
       "      <td>Pinot Grigio</td>\n",
       "      <td>1</td>\n",
       "    </tr>\n",
       "    <tr>\n",
       "      <th>2</th>\n",
       "      <td>0</td>\n",
       "      <td>Sauvignon Blanc</td>\n",
       "      <td>1</td>\n",
       "    </tr>\n",
       "    <tr>\n",
       "      <th>3</th>\n",
       "      <td>0</td>\n",
       "      <td>Chardonnay</td>\n",
       "      <td>2</td>\n",
       "    </tr>\n",
       "    <tr>\n",
       "      <th>4</th>\n",
       "      <td>0</td>\n",
       "      <td>Pinot Noir</td>\n",
       "      <td>1</td>\n",
       "    </tr>\n",
       "  </tbody>\n",
       "</table>\n",
       "</div>"
      ],
      "text/plain": [
       "   user                Item  bought\n",
       "0     0  Cabernet Sauvignon       2\n",
       "1     0        Pinot Grigio       1\n",
       "2     0     Sauvignon Blanc       1\n",
       "3     0          Chardonnay       2\n",
       "4     0          Pinot Noir       1"
      ]
     },
     "execution_count": 48,
     "metadata": {},
     "output_type": "execute_result"
    }
   ],
   "source": [
    "data = pd.read_csv('winedata.csv')\n",
    "data.head()"
   ]
  },
  {
   "cell_type": "markdown",
   "metadata": {},
   "source": [
    "Normalize by the number of items bought and make each entry between 0 and 1."
   ]
  },
  {
   "cell_type": "code",
   "execution_count": 49,
   "metadata": {
    "collapsed": false
   },
   "outputs": [
    {
     "data": {
      "text/html": [
       "<div>\n",
       "<table border=\"1\" class=\"dataframe\">\n",
       "  <thead>\n",
       "    <tr style=\"text-align: right;\">\n",
       "      <th></th>\n",
       "      <th>user</th>\n",
       "      <th>Item</th>\n",
       "      <th>bought</th>\n",
       "      <th>bought_norm</th>\n",
       "    </tr>\n",
       "  </thead>\n",
       "  <tbody>\n",
       "    <tr>\n",
       "      <th>0</th>\n",
       "      <td>0</td>\n",
       "      <td>Cabernet Sauvignon</td>\n",
       "      <td>2</td>\n",
       "      <td>0.2</td>\n",
       "    </tr>\n",
       "    <tr>\n",
       "      <th>1</th>\n",
       "      <td>0</td>\n",
       "      <td>Pinot Grigio</td>\n",
       "      <td>1</td>\n",
       "      <td>0.1</td>\n",
       "    </tr>\n",
       "    <tr>\n",
       "      <th>2</th>\n",
       "      <td>0</td>\n",
       "      <td>Sauvignon Blanc</td>\n",
       "      <td>1</td>\n",
       "      <td>0.1</td>\n",
       "    </tr>\n",
       "    <tr>\n",
       "      <th>3</th>\n",
       "      <td>0</td>\n",
       "      <td>Chardonnay</td>\n",
       "      <td>2</td>\n",
       "      <td>0.2</td>\n",
       "    </tr>\n",
       "    <tr>\n",
       "      <th>4</th>\n",
       "      <td>0</td>\n",
       "      <td>Pinot Noir</td>\n",
       "      <td>1</td>\n",
       "      <td>0.1</td>\n",
       "    </tr>\n",
       "  </tbody>\n",
       "</table>\n",
       "</div>"
      ],
      "text/plain": [
       "   user                Item  bought  bought_norm\n",
       "0     0  Cabernet Sauvignon       2          0.2\n",
       "1     0        Pinot Grigio       1          0.1\n",
       "2     0     Sauvignon Blanc       1          0.1\n",
       "3     0          Chardonnay       2          0.2\n",
       "4     0          Pinot Noir       1          0.1"
      ]
     },
     "execution_count": 49,
     "metadata": {},
     "output_type": "execute_result"
    }
   ],
   "source": [
    "data['bought_norm'] = data['bought'] / data.groupby('user')['bought'].transform(sum)\n",
    "data.head()"
   ]
  },
  {
   "cell_type": "markdown",
   "metadata": {},
   "source": [
    "### Simple set based method\n",
    "First I'll use a very naive approach and calculate similarity between two items by looking at the number of users that the two items have in common."
   ]
  },
  {
   "cell_type": "code",
   "execution_count": 50,
   "metadata": {
    "collapsed": true
   },
   "outputs": [],
   "source": [
    "# Create a dictionary of wine name to the set of their users\n",
    "item_sets = dict((item, set(users)) for item, users in data.groupby('Item')['user'])"
   ]
  },
  {
   "cell_type": "markdown",
   "metadata": {},
   "source": [
    "Out of curiosity I'll look at Cabernet Sauvignon, which is one of the most popular wines."
   ]
  },
  {
   "cell_type": "code",
   "execution_count": 51,
   "metadata": {
    "collapsed": false
   },
   "outputs": [
    {
     "name": "stdout",
     "output_type": "stream",
     "text": [
      "Malbec : 25\n",
      "Champagne : 4\n",
      "Rose : 14\n",
      "Pinot Noir : 82\n",
      "Port : 13\n",
      "Espumante : 6\n",
      "Montepulciano : 92\n",
      "Muscat : 27\n",
      "Cabernet Franc : 70\n",
      "Semillon : 26\n",
      "Cabernet Sauvignon : 111\n",
      "Sangiovese : 87\n",
      "Prosecco : 11\n",
      "Gewurztraminer : 32\n",
      "Barbera : 96\n",
      "Chardonnay : 69\n",
      "Syrah : 58\n",
      "Zinfandel : 79\n",
      "Pinot Grigio : 32\n",
      "Merlot : 68\n",
      "Riesling : 31\n",
      "Sauvignon Blanc : 26\n"
     ]
    }
   ],
   "source": [
    "get_overlaps(item_sets, 'Cabernet Sauvignon')"
   ]
  },
  {
   "cell_type": "markdown",
   "metadata": {},
   "source": [
    "### Cosine based method\n",
    "Define similarity by measuring the angle between each pair of items."
   ]
  },
  {
   "cell_type": "code",
   "execution_count": 52,
   "metadata": {
    "collapsed": false
   },
   "outputs": [],
   "source": [
    "# map each username to a unique numeric value\n",
    "userids = defaultdict(lambda: len(userids))\n",
    "data['userid'] = data['user'].map(userids.__getitem__)\n",
    "\n",
    "# map each item to a sparse vector of their users\n",
    "items = dict((item, csr_matrix(\n",
    "                (group['bought_norm'], (zeros(len(group)), group['userid'])),\n",
    "                shape=[1, len(userids)]))\n",
    "        for item, group in data.groupby('Item'))"
   ]
  },
  {
   "cell_type": "code",
   "execution_count": 53,
   "metadata": {
    "collapsed": false
   },
   "outputs": [
    {
     "name": "stdout",
     "output_type": "stream",
     "text": [
      "Malbec : 0.123625800145\n",
      "Champagne : 0.00824398669704\n",
      "Rose : 0.0507192514212\n",
      "Pinot Noir : 0.347795969061\n",
      "Port : 0.0703081275495\n",
      "Espumante : 0.0227991298744\n",
      "Montepulciano : 0.517771008213\n",
      "Muscat : 0.0979917146104\n",
      "Cabernet Franc : 0.257483140482\n",
      "Semillon : 0.110152890452\n",
      "Cabernet Sauvignon : 1.0\n",
      "Sangiovese : 0.6970694479\n",
      "Prosecco : 0.0358025433636\n",
      "Gewurztraminer : 0.0798347122216\n",
      "Barbera : 0.810335208496\n",
      "Chardonnay : 0.293563364976\n",
      "Syrah : 0.329877671582\n",
      "Zinfandel : 0.340325942969\n",
      "Pinot Grigio : 0.0794288775148\n",
      "Merlot : 0.22765532905\n",
      "Riesling : 0.110072665209\n",
      "Sauvignon Blanc : 0.0426492580584\n"
     ]
    }
   ],
   "source": [
    "get_sim_with_cos(items, 'Cabernet Sauvignon')"
   ]
  },
  {
   "cell_type": "markdown",
   "metadata": {},
   "source": [
    "### Matrix factorization methods"
   ]
  },
  {
   "cell_type": "markdown",
   "metadata": {},
   "source": [
    "Implicit matrix factorization and alternating least squares."
   ]
  },
  {
   "cell_type": "code",
   "execution_count": 54,
   "metadata": {
    "collapsed": false
   },
   "outputs": [
    {
     "name": "stdout",
     "output_type": "stream",
     "text": [
      "Unique users: 252\n",
      "Unique items: 22\n"
     ]
    }
   ],
   "source": [
    "# Get a random sample from each user for the test data\n",
    "test_data = data.groupby('user', as_index=False).apply(lambda x: x.loc[np.random.choice(x.index, 1, replace=False),:])\n",
    "\n",
    "# Get the indices of the test data\n",
    "l1 = [x[1] for x in test_data.index.tolist()]\n",
    "\n",
    "# train data\n",
    "train_data = data.drop(data.index[l1]).dropna()\n",
    "\n",
    "train_data['user'] = train_data['user'].astype(\"category\")\n",
    "train_data['Item'] = train_data['Item'].astype(\"category\")\n",
    "\n",
    "print(\"Unique users: %s\" % (len(train_data['user'].unique())))\n",
    "print(\"Unique items: %s\" % (len(train_data['Item'].unique())))"
   ]
  },
  {
   "cell_type": "code",
   "execution_count": 55,
   "metadata": {
    "collapsed": false
   },
   "outputs": [],
   "source": [
    "# create a sparse matrix. \n",
    "buy_data = csc_matrix((train_data['bought_norm'].astype(float), \n",
    "                   (train_data['Item'].cat.codes,\n",
    "                    train_data['user'].cat.codes)))"
   ]
  },
  {
   "cell_type": "code",
   "execution_count": 56,
   "metadata": {
    "collapsed": true
   },
   "outputs": [],
   "source": [
    "# Dictionary for item: category code\n",
    "itemid2itemname = dict(enumerate(train_data['Item'].cat.categories))\n",
    "itemname2itemid = {v: k for k, v in itemid2itemname.items()}\n",
    "\n",
    "# Dictionary for user: category code\n",
    "userid2username = dict(enumerate(train_data['user'].cat.categories))\n",
    "username2userid  = {v: k for k, v in userid2username.items()}"
   ]
  },
  {
   "cell_type": "code",
   "execution_count": 57,
   "metadata": {
    "collapsed": false
   },
   "outputs": [
    {
     "name": "stdout",
     "output_type": "stream",
     "text": [
      "Solving for user vectors...\n",
      "Solved 0 vecs in 0 seconds\n",
      "Solving for item vectors...\n",
      "Solved 0 vecs in 0 seconds\n",
      "iteration 1 finished in 0.711008 seconds\n",
      "Solving for user vectors...\n",
      "Solved 0 vecs in 0 seconds\n",
      "Solving for item vectors...\n",
      "Solved 0 vecs in 0 seconds\n",
      "iteration 2 finished in 0.692380 seconds\n",
      "Solving for user vectors...\n",
      "Solved 0 vecs in 0 seconds\n",
      "Solving for item vectors...\n",
      "Solved 0 vecs in 0 seconds\n",
      "iteration 3 finished in 0.684629 seconds\n",
      "Solving for user vectors...\n",
      "Solved 0 vecs in 0 seconds\n",
      "Solving for item vectors...\n",
      "Solved 0 vecs in 0 seconds\n",
      "iteration 4 finished in 0.686731 seconds\n",
      "Solving for user vectors...\n",
      "Solved 0 vecs in 0 seconds\n",
      "Solving for item vectors...\n",
      "Solved 0 vecs in 0 seconds\n",
      "iteration 5 finished in 0.692012 seconds\n",
      "Solving for user vectors...\n",
      "Solved 0 vecs in 0 seconds\n",
      "Solving for item vectors...\n",
      "Solved 0 vecs in 0 seconds\n",
      "iteration 6 finished in 0.685205 seconds\n",
      "Solving for user vectors...\n",
      "Solved 0 vecs in 0 seconds\n",
      "Solving for item vectors...\n",
      "Solved 0 vecs in 0 seconds\n",
      "iteration 7 finished in 0.705178 seconds\n",
      "Solving for user vectors...\n",
      "Solved 0 vecs in 0 seconds\n",
      "Solving for item vectors...\n",
      "Solved 0 vecs in 0 seconds\n",
      "iteration 8 finished in 0.685400 seconds\n",
      "Solving for user vectors...\n",
      "Solved 0 vecs in 0 seconds\n",
      "Solving for item vectors...\n",
      "Solved 0 vecs in 0 seconds\n",
      "iteration 9 finished in 0.633044 seconds\n",
      "Solving for user vectors...\n",
      "Solved 0 vecs in 0 seconds\n",
      "Solving for item vectors...\n",
      "Solved 0 vecs in 0 seconds\n",
      "iteration 10 finished in 0.648864 seconds\n",
      "Solving for user vectors...\n",
      "Solved 0 vecs in 0 seconds\n",
      "Solving for item vectors...\n",
      "Solved 0 vecs in 0 seconds\n",
      "iteration 11 finished in 0.632434 seconds\n",
      "Solving for user vectors...\n",
      "Solved 0 vecs in 0 seconds\n",
      "Solving for item vectors...\n",
      "Solved 0 vecs in 0 seconds\n",
      "iteration 12 finished in 0.674388 seconds\n",
      "Solving for user vectors...\n",
      "Solved 0 vecs in 0 seconds\n",
      "Solving for item vectors...\n",
      "Solved 0 vecs in 0 seconds\n",
      "iteration 13 finished in 0.710364 seconds\n",
      "Solving for user vectors...\n",
      "Solved 0 vecs in 0 seconds\n",
      "Solving for item vectors...\n",
      "Solved 0 vecs in 0 seconds\n",
      "iteration 14 finished in 0.686511 seconds\n",
      "Solving for user vectors...\n",
      "Solved 0 vecs in 0 seconds\n",
      "Solving for item vectors...\n",
      "Solved 0 vecs in 0 seconds\n",
      "iteration 15 finished in 0.643543 seconds\n",
      "Solving for user vectors...\n",
      "Solved 0 vecs in 0 seconds\n",
      "Solving for item vectors...\n",
      "Solved 0 vecs in 0 seconds\n",
      "iteration 16 finished in 0.645386 seconds\n",
      "Solving for user vectors...\n",
      "Solved 0 vecs in 0 seconds\n",
      "Solving for item vectors...\n",
      "Solved 0 vecs in 0 seconds\n",
      "iteration 17 finished in 0.630175 seconds\n",
      "Solving for user vectors...\n",
      "Solved 0 vecs in 0 seconds\n",
      "Solving for item vectors...\n",
      "Solved 0 vecs in 0 seconds\n",
      "iteration 18 finished in 0.653357 seconds\n",
      "Solving for user vectors...\n",
      "Solved 0 vecs in 0 seconds\n",
      "Solving for item vectors...\n",
      "Solved 0 vecs in 0 seconds\n",
      "iteration 19 finished in 0.646111 seconds\n",
      "Solving for user vectors...\n",
      "Solved 0 vecs in 0 seconds\n",
      "Solving for item vectors...\n",
      "Solved 0 vecs in 0 seconds\n",
      "iteration 20 finished in 0.632515 seconds\n",
      "Solving for user vectors...\n",
      "Solved 0 vecs in 0 seconds\n",
      "Solving for item vectors...\n",
      "Solved 0 vecs in 0 seconds\n",
      "iteration 21 finished in 0.639373 seconds\n",
      "Solving for user vectors...\n",
      "Solved 0 vecs in 0 seconds\n",
      "Solving for item vectors...\n",
      "Solved 0 vecs in 0 seconds\n",
      "iteration 22 finished in 0.630174 seconds\n",
      "Solving for user vectors...\n",
      "Solved 0 vecs in 0 seconds\n",
      "Solving for item vectors...\n",
      "Solved 0 vecs in 0 seconds\n",
      "iteration 23 finished in 0.639947 seconds\n",
      "Solving for user vectors...\n",
      "Solved 0 vecs in 0 seconds\n",
      "Solving for item vectors...\n",
      "Solved 0 vecs in 0 seconds\n",
      "iteration 24 finished in 0.687123 seconds\n",
      "Solving for user vectors...\n",
      "Solved 0 vecs in 0 seconds\n",
      "Solving for item vectors...\n",
      "Solved 0 vecs in 0 seconds\n",
      "iteration 25 finished in 0.676979 seconds\n",
      "Solving for user vectors...\n",
      "Solved 0 vecs in 0 seconds\n",
      "Solving for item vectors...\n",
      "Solved 0 vecs in 0 seconds\n",
      "iteration 26 finished in 0.688056 seconds\n",
      "Solving for user vectors...\n",
      "Solved 0 vecs in 0 seconds\n",
      "Solving for item vectors...\n",
      "Solved 0 vecs in 0 seconds\n",
      "iteration 27 finished in 0.691282 seconds\n",
      "Solving for user vectors...\n",
      "Solved 0 vecs in 0 seconds\n",
      "Solving for item vectors...\n",
      "Solved 0 vecs in 0 seconds\n",
      "iteration 28 finished in 0.690951 seconds\n",
      "Solving for user vectors...\n",
      "Solved 0 vecs in 0 seconds\n",
      "Solving for item vectors...\n",
      "Solved 0 vecs in 0 seconds\n",
      "iteration 29 finished in 0.698972 seconds\n",
      "Solving for user vectors...\n",
      "Solved 0 vecs in 0 seconds\n",
      "Solving for item vectors...\n",
      "Solved 0 vecs in 0 seconds\n",
      "iteration 30 finished in 0.681858 seconds\n",
      "finished iteration 0 in 0.0975179672241211\n",
      "finished iteration 1 in 0.09221816062927246\n",
      "finished iteration 2 in 0.09158802032470703\n",
      "finished iteration 3 in 0.09234404563903809\n",
      "finished iteration 4 in 0.08934593200683594\n",
      "finished iteration 5 in 0.09048199653625488\n",
      "finished iteration 6 in 0.09061121940612793\n",
      "finished iteration 7 in 0.09292221069335938\n",
      "finished iteration 8 in 0.09339189529418945\n",
      "finished iteration 9 in 0.09297609329223633\n",
      "finished iteration 10 in 0.08872103691101074\n",
      "finished iteration 11 in 0.09137701988220215\n",
      "finished iteration 12 in 0.09156489372253418\n",
      "finished iteration 13 in 0.09423613548278809\n",
      "finished iteration 14 in 0.09193301200866699\n"
     ]
    }
   ],
   "source": [
    "# Implicit MF\n",
    "impl = ImplicitMF(buy_data.tocsr())\n",
    "impl.train_model()\n",
    "\n",
    "impl_ii = TopRelated_itemitem(impl.user_vectors.T)\n",
    "\n",
    "# ALS \n",
    "als_user_factors, als_item_factors = alternating_least_squares(bm25_weight(buy_data.tocoo()), 50)\n",
    "\n",
    "als_ii = TopRelated_itemitem(als_user_factors.T)"
   ]
  },
  {
   "cell_type": "markdown",
   "metadata": {},
   "source": [
    "### Recommendations\n",
    "Now if you use the get_related method of either impl_ii or als_ii you can get recommendations. For example, looking at Cabernet Sauvignon again (category code 2):"
   ]
  },
  {
   "cell_type": "code",
   "execution_count": 58,
   "metadata": {
    "collapsed": false
   },
   "outputs": [
    {
     "data": {
      "text/plain": [
       "{'Barbera': 0,\n",
       " 'Cabernet Franc': 1,\n",
       " 'Cabernet Sauvignon': 2,\n",
       " 'Champagne': 3,\n",
       " 'Chardonnay': 4,\n",
       " 'Espumante': 5,\n",
       " 'Gewurztraminer': 6,\n",
       " 'Malbec': 7,\n",
       " 'Merlot': 8,\n",
       " 'Montepulciano': 9,\n",
       " 'Muscat': 10,\n",
       " 'Pinot Grigio': 11,\n",
       " 'Pinot Noir': 12,\n",
       " 'Port': 13,\n",
       " 'Prosecco': 14,\n",
       " 'Riesling': 15,\n",
       " 'Rose': 16,\n",
       " 'Sangiovese': 17,\n",
       " 'Sauvignon Blanc': 18,\n",
       " 'Semillon': 19,\n",
       " 'Syrah': 20,\n",
       " 'Zinfandel': 21}"
      ]
     },
     "execution_count": 58,
     "metadata": {},
     "output_type": "execute_result"
    }
   ],
   "source": [
    "itemname2itemid"
   ]
  },
  {
   "cell_type": "markdown",
   "metadata": {},
   "source": [
    "Top 10 related items (IMF) sorted from high to low:"
   ]
  },
  {
   "cell_type": "code",
   "execution_count": 66,
   "metadata": {
    "collapsed": false
   },
   "outputs": [
    {
     "name": "stdout",
     "output_type": "stream",
     "text": [
      "Cabernet Sauvignon : 1.92640388658\n",
      "Montepulciano : 0.982636897522\n",
      "Barbera : 0.91181546732\n",
      "Sangiovese : 0.801211866236\n",
      "Pinot Noir : 0.493039509471\n",
      "Merlot : 0.450261531423\n",
      "Syrah : 0.430613949117\n",
      "Cabernet Franc : 0.394405045211\n",
      "Zinfandel : 0.349210924318\n",
      "Chardonnay : 0.311731048352\n"
     ]
    }
   ],
   "source": [
    "CabSauvRecs_impl = impl_ii.get_related(2)\n",
    "CabSauvRecs_impl.sort(key=operator.itemgetter(1), reverse=True)\n",
    "CabSauvRecs_impl\n",
    "\n",
    "print_top_items(itemname2itemid, CabSauvRecs_impl)"
   ]
  },
  {
   "cell_type": "markdown",
   "metadata": {},
   "source": [
    "The top 5 most related to Cabernet Sauvignon (aside from itself) are Montepulciano, Barbera, Sangiovese, Pinot Noir, Merlot. Note: this does not mean these wines are alike in terms of their properties since this is not a content based recommender (although this would be fun to build)."
   ]
  },
  {
   "cell_type": "markdown",
   "metadata": {},
   "source": [
    "Top 10 related items (ALS) sorted from high to low:"
   ]
  },
  {
   "cell_type": "code",
   "execution_count": 67,
   "metadata": {
    "collapsed": false
   },
   "outputs": [
    {
     "name": "stdout",
     "output_type": "stream",
     "text": [
      "Cabernet Sauvignon : 1.98385577268\n",
      "Barbera : 1.26980921153\n",
      "Montepulciano : 1.23604203209\n",
      "Pinot Noir : 1.23454763923\n",
      "Sangiovese : 1.17589964622\n",
      "Cabernet Franc : 0.887842151257\n",
      "Chardonnay : 0.874804063605\n",
      "Syrah : 0.828921865353\n",
      "Zinfandel : 0.818015786071\n",
      "Merlot : 0.803151198909\n"
     ]
    }
   ],
   "source": [
    "CabSauvRecs_als = als_ii.get_related(2)\n",
    "CabSauvRecs_als.sort(key=operator.itemgetter(1), reverse=True)\n",
    "\n",
    "print_top_items(itemname2itemid, CabSauvRecs_als)"
   ]
  },
  {
   "cell_type": "markdown",
   "metadata": {},
   "source": [
    "The top most related to Cabernet Sauvignon from ALS are similar (just in a slightly different order)"
   ]
  },
  {
   "cell_type": "markdown",
   "metadata": {
    "collapsed": true
   },
   "source": [
    "#### TO DO NEXT: \n",
    "Evaluation with the test data.\n",
    "#### TO DO AFTER THAT: \n",
    "Nice graphics including venn diagrams to show overlap of wines.\n",
    "#### AFTER THAT: \n",
    "Try out a content based recommender. With wines, I can imagine it would work well (a recommender based on various properties of the wines, such as fruitiness, alcohol content, or even chemical composition). "
   ]
  },
  {
   "cell_type": "code",
   "execution_count": null,
   "metadata": {
    "collapsed": true
   },
   "outputs": [],
   "source": []
  }
 ],
 "metadata": {
  "anaconda-cloud": {},
  "kernelspec": {
   "display_name": "Python [py35]",
   "language": "python",
   "name": "Python [py35]"
  },
  "language_info": {
   "codemirror_mode": {
    "name": "ipython",
    "version": 3
   },
   "file_extension": ".py",
   "mimetype": "text/x-python",
   "name": "python",
   "nbconvert_exporter": "python",
   "pygments_lexer": "ipython3",
   "version": "3.5.2"
  }
 },
 "nbformat": 4,
 "nbformat_minor": 0
}
